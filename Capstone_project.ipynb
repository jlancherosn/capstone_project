{
  "nbformat": 4,
  "nbformat_minor": 0,
  "metadata": {
    "colab": {
      "provenance": [],
      "collapsed_sections": [
        "dAdzf34R_el2",
        "esme_NOYgvks",
        "YTIGgss1hL6G",
        "fCEIO8FHg6Iy",
        "VycKI5yqhGIV",
        "apKgMwA-g_FV",
        "Sni9IKWbhCXl"
      ]
    },
    "kernelspec": {
      "name": "python3",
      "display_name": "Python 3"
    },
    "language_info": {
      "name": "python"
    }
  },
  "cells": [
    {
      "cell_type": "markdown",
      "source": [
        "# Capstone_project\n",
        "# Scenario quantification\n",
        "\n",
        "## Introduction\n",
        "The purpose of this project is to develop a statistical model to predict economic losses associated with financial risks, specifically credit, market, or operational risks. Financial institutions constantly face these risks, and their ability to measure and manage potential losses is crucial for ensuring financial stability.\n",
        "\n",
        "**Problem Statement**\n",
        "The main problem addressed in this project is the accurate prediction of economic losses due to financial risk events. Identifying the factors that influence these losses and developing a predictive model will enable institutions to make informed decisions to mitigate these risks.\n",
        "\n",
        "**Significance**\n",
        "Managing financial risks is essential for institutions operating in highly volatile markets. By developing an efficient predictive model, potential losses can be estimated, allowing for proactive mitigation strategies. This not only improves financial stability but also optimizes capital allocation, ensuring institutions comply with regulatory requirements and maintain solvency.\n",
        "\n",
        "Let's load the needed libraries."
      ],
      "metadata": {
        "id": "VADmtvg-nPLs"
      }
    },
    {
      "cell_type": "markdown",
      "source": [
        "# Libraries"
      ],
      "metadata": {
        "id": "dAdzf34R_el2"
      }
    },
    {
      "cell_type": "code",
      "execution_count": null,
      "metadata": {
        "id": "EAKWpwEt-PzZ",
        "colab": {
          "base_uri": "https://localhost:8080/"
        },
        "outputId": "84acc43a-2b91-4f85-f714-ee08be4c471b"
      },
      "outputs": [
        {
          "output_type": "stream",
          "name": "stdout",
          "text": [
            "Collecting distfit\n",
            "  Downloading distfit-1.8.0-py3-none-any.whl.metadata (11 kB)\n",
            "Requirement already satisfied: packaging in /usr/local/lib/python3.10/dist-packages (from distfit) (24.1)\n",
            "Requirement already satisfied: matplotlib>=3.5.2 in /usr/local/lib/python3.10/dist-packages (from distfit) (3.7.1)\n",
            "Requirement already satisfied: numpy in /usr/local/lib/python3.10/dist-packages (from distfit) (1.26.4)\n",
            "Requirement already satisfied: pandas in /usr/local/lib/python3.10/dist-packages (from distfit) (2.1.4)\n",
            "Requirement already satisfied: statsmodels in /usr/local/lib/python3.10/dist-packages (from distfit) (0.14.2)\n",
            "Requirement already satisfied: scipy in /usr/local/lib/python3.10/dist-packages (from distfit) (1.13.1)\n",
            "Collecting pypickle (from distfit)\n",
            "  Downloading pypickle-1.1.0-py3-none-any.whl.metadata (2.9 kB)\n",
            "Collecting colourmap>=1.1.10 (from distfit)\n",
            "  Downloading colourmap-1.1.17-py3-none-any.whl.metadata (4.1 kB)\n",
            "Requirement already satisfied: joblib in /usr/local/lib/python3.10/dist-packages (from distfit) (1.4.2)\n",
            "Requirement already satisfied: contourpy>=1.0.1 in /usr/local/lib/python3.10/dist-packages (from matplotlib>=3.5.2->distfit) (1.2.1)\n",
            "Requirement already satisfied: cycler>=0.10 in /usr/local/lib/python3.10/dist-packages (from matplotlib>=3.5.2->distfit) (0.12.1)\n",
            "Requirement already satisfied: fonttools>=4.22.0 in /usr/local/lib/python3.10/dist-packages (from matplotlib>=3.5.2->distfit) (4.53.1)\n",
            "Requirement already satisfied: kiwisolver>=1.0.1 in /usr/local/lib/python3.10/dist-packages (from matplotlib>=3.5.2->distfit) (1.4.5)\n",
            "Requirement already satisfied: pillow>=6.2.0 in /usr/local/lib/python3.10/dist-packages (from matplotlib>=3.5.2->distfit) (9.4.0)\n",
            "Requirement already satisfied: pyparsing>=2.3.1 in /usr/local/lib/python3.10/dist-packages (from matplotlib>=3.5.2->distfit) (3.1.2)\n",
            "Requirement already satisfied: python-dateutil>=2.7 in /usr/local/lib/python3.10/dist-packages (from matplotlib>=3.5.2->distfit) (2.8.2)\n",
            "Requirement already satisfied: pytz>=2020.1 in /usr/local/lib/python3.10/dist-packages (from pandas->distfit) (2024.1)\n",
            "Requirement already satisfied: tzdata>=2022.1 in /usr/local/lib/python3.10/dist-packages (from pandas->distfit) (2024.1)\n",
            "Requirement already satisfied: patsy>=0.5.6 in /usr/local/lib/python3.10/dist-packages (from statsmodels->distfit) (0.5.6)\n",
            "Requirement already satisfied: six in /usr/local/lib/python3.10/dist-packages (from patsy>=0.5.6->statsmodels->distfit) (1.16.0)\n",
            "Downloading distfit-1.8.0-py3-none-any.whl (42 kB)\n",
            "\u001b[2K   \u001b[90m━━━━━━━━━━━━━━━━━━━━━━━━━━━━━━━━━━━━━━━━\u001b[0m \u001b[32m42.9/42.9 kB\u001b[0m \u001b[31m1.3 MB/s\u001b[0m eta \u001b[36m0:00:00\u001b[0m\n",
            "\u001b[?25hDownloading colourmap-1.1.17-py3-none-any.whl (10 kB)\n",
            "Downloading pypickle-1.1.0-py3-none-any.whl (5.1 kB)\n",
            "Installing collected packages: pypickle, colourmap, distfit\n",
            "Successfully installed colourmap-1.1.17 distfit-1.8.0 pypickle-1.1.0\n"
          ]
        }
      ],
      "source": [
        "# from dateutil.relativedelta import relativedelta\n",
        "!pip install -U distfit # https://erdogant.github.io/distfit/pages/html/index.html\n",
        "from distfit import distfit\n",
        "# !pip install fitter\n",
        "# from fitter import Fitter, get_common_distributions, get_distributions\n",
        "import matplotlib.pyplot as plt\n",
        "import numpy as np\n",
        "import pandas as pd\n",
        "from pandas import read_excel, read_csv\n",
        "pd.options.display.max_columns = None\n",
        "import random\n",
        "# import re\n",
        "from scipy import stats\n",
        "import seaborn as sns\n",
        "from sqlalchemy import create_engine\n",
        "import sys\n",
        "import time"
      ]
    },
    {
      "cell_type": "code",
      "source": [
        "# from pydrive2.auth import GoogleAuth\n",
        "# from pydrive2.drive import GoogleDrive\n",
        "# from google.colab import auth\n",
        "# from oauth2client.client import GoogleCredentials\n",
        "# auth.authenticate_user()\n",
        "# gauth = GoogleAuth()\n",
        "# gauth.credentials = GoogleCredentials.get_application_default()\n",
        "# drive = GoogleDrive(gauth)\n",
        "# import gspread\n",
        "# from google.auth import default\n",
        "# auth.authenticate_user()\n",
        "# creds, _ = default()\n",
        "# gc = gspread.authorize(creds)\n",
        "# import requests\n",
        "# from gspread_dataframe import set_with_dataframe\n",
        "# from google.colab import files\n",
        "# from datetime import datetime, timedelta\n",
        "# from openpyxl import Workbook, load_workbook\n",
        "# from openpyxl.styles import Font\n",
        "# from googleapiclient.discovery import build\n",
        "# from googleapiclient.http import MediaFileUpload"
      ],
      "metadata": {
        "id": "MA50s_T__4nV"
      },
      "execution_count": null,
      "outputs": []
    },
    {
      "cell_type": "markdown",
      "source": [
        "# Load data\n",
        "\n",
        "Dataset Overview\n",
        "\n",
        "The dataset used in this project is a CSV file containing two key columns: date and loss. These columns provide the minimum necessary information to operate the economic model for predicting financial losses.\n",
        "\n",
        "Source: The dataset is provided alongside the project code as an anonymized sample dataset. It functions as an illustrative example for building the economic model.\n",
        "\n",
        "Format: CSV file with two columns:\n",
        "\n",
        "fecha: The date of the recorded financial event.\n",
        "\n",
        "losses: The amount of financial loss associated with the event on the given date."
      ],
      "metadata": {
        "id": "esme_NOYgvks"
      }
    },
    {
      "cell_type": "code",
      "source": [
        "def str_time_prop(start, end, time_format, prop):\n",
        "  '''\n",
        "  Get a time at a proportion of a range of two formatted times.\n",
        "\n",
        "  start and end should be strings specifying times formatted in the\n",
        "  given format (strftime-style), giving an interval [start, end].\n",
        "  prop specifies how a proportion of the interval to be taken after\n",
        "  start.  The returned time will be in the specified format.\n",
        "  '''\n",
        "\n",
        "  stime = time.mktime(time.strptime(start, time_format))\n",
        "  etime = time.mktime(time.strptime(end, time_format))\n",
        "\n",
        "  ptime = stime + prop * (etime - stime)\n",
        "\n",
        "  return time.strftime(time_format, time.localtime(ptime))\n",
        "\n",
        "def random_date(start, end, prop):\n",
        "  return str_time_prop(start, end, '%d/%m/%Y', prop)"
      ],
      "metadata": {
        "id": "a1N1h_MPFapn"
      },
      "execution_count": null,
      "outputs": []
    },
    {
      "cell_type": "markdown",
      "source": [
        "The above functions helps us to generate random dates between two given dates, and the real data has lognorm distribution with parameters `s=1`, `loc=0.3`, and `scale=50`. We will create 162397 sampled data."
      ],
      "metadata": {
        "id": "yIV9r7TvMYI5"
      }
    },
    {
      "cell_type": "code",
      "source": [
        "fechas = [random_date('1/1/2023', '31/12/2023', random.random()) for i in range(162397)]\n",
        "losses = stats.lognorm.rvs(s=1, loc=0.3, scale=50, size=162397, random_state=123)\n",
        "df = pd.DataFrame({'fecha': fechas, 'losses': losses})\n",
        "df.to_csv('losses_1.csv', index=False)"
      ],
      "metadata": {
        "id": "YWp1POWyGt_Q"
      },
      "execution_count": null,
      "outputs": []
    },
    {
      "cell_type": "markdown",
      "source": [
        "# EDA\n",
        "\n",
        "**Variable Significance**\n",
        "* fecha: This variable represents the time dimension of the financial loss data. It is essential for identifying trends or patterns in the occurrence of financial loss events over time, which could be important for making temporal predictions.\n",
        "\n",
        "* losses: The loss variable quantifies the economic impact of each financial event. It is the primary dependent variable that the model aims to predict. Accurately modeling this variable allows financial institutions to anticipate potential losses and implement mitigation strategies accordingly.\n",
        "\n",
        "**Importance to the Problem**\n",
        "Given that financial institutions need to predict and manage risk, the combination of date and loss data provides a foundation for constructing a time-series model or other relevant statistical models. By analyzing historical loss data, the model can forecast future losses and help institutions prepare for potential financial downturns."
      ],
      "metadata": {
        "id": "YTIGgss1hL6G"
      }
    },
    {
      "cell_type": "code",
      "source": [
        "df['losses'].describe(percentiles=[x/100 for x in range(10, 91, 10)])"
      ],
      "metadata": {
        "colab": {
          "base_uri": "https://localhost:8080/"
        },
        "id": "oTYQfEOxhP3f",
        "outputId": "3802a9eb-5edd-4e21-d99f-e0e9274f7fd2"
      },
      "execution_count": null,
      "outputs": [
        {
          "output_type": "execute_result",
          "data": {
            "text/plain": [
              "count    162397.000000\n",
              "mean         82.746024\n",
              "std         107.886701\n",
              "min           0.909625\n",
              "10%          14.259113\n",
              "20%          21.925558\n",
              "30%          29.959801\n",
              "40%          39.159719\n",
              "50%          50.370651\n",
              "60%          64.773522\n",
              "70%          85.072108\n",
              "80%         116.424519\n",
              "90%         180.261172\n",
              "max        3682.794655\n",
              "Name: losses, dtype: float64"
            ]
          },
          "metadata": {},
          "execution_count": 23
        }
      ]
    },
    {
      "cell_type": "code",
      "source": [
        "sns.violinplot(x=df['losses']);"
      ],
      "metadata": {
        "colab": {
          "base_uri": "https://localhost:8080/",
          "height": 449
        },
        "id": "zP96diVvhYSV",
        "outputId": "e38a1855-ff35-4b29-f17f-dc9604cb60c1"
      },
      "execution_count": null,
      "outputs": [
        {
          "output_type": "display_data",
          "data": {
            "text/plain": [
              "<Figure size 640x480 with 1 Axes>"
            ],
            "image/png": "[encoded data removed]"
          },
          "metadata": {}
        }
      ]
    },
    {
      "cell_type": "code",
      "source": [
        "sns.ecdfplot(x=df['losses']);"
      ],
      "metadata": {
        "colab": {
          "base_uri": "https://localhost:8080/",
          "height": 455
        },
        "id": "ODDj8iRhky4x",
        "outputId": "2d5bbffe-2c16-4928-d850-2fc3c079107a"
      },
      "execution_count": null,
      "outputs": [
        {
          "output_type": "display_data",
          "data": {
            "text/plain": [
              "<Figure size 640x480 with 1 Axes>"
            ],
            "image/png": "[encoded data removed]"
          },
          "metadata": {}
        }
      ]
    },
    {
      "cell_type": "code",
      "source": [
        "q99_9 = np.quantile(df['losses'], 0.999)\n",
        "q99_9"
      ],
      "metadata": {
        "colab": {
          "base_uri": "https://localhost:8080/"
        },
        "id": "_hdKQRYyloYO",
        "outputId": "d8c62c32-74b6-44ac-d6b6-a7c536bc77b3"
      },
      "execution_count": null,
      "outputs": [
        {
          "output_type": "execute_result",
          "data": {
            "text/plain": [
              "1106.7379141245835"
            ]
          },
          "metadata": {},
          "execution_count": 26
        }
      ]
    },
    {
      "cell_type": "code",
      "source": [
        "periodo = 'M'"
      ],
      "metadata": {
        "id": "2kmI__n3UmjD"
      },
      "execution_count": null,
      "outputs": []
    },
    {
      "cell_type": "code",
      "source": [
        "df['periodo'] = pd.to_datetime(df['fecha'], format='%d/%m/%Y').dt.to_period(periodo)"
      ],
      "metadata": {
        "id": "xT9YbbLaVjJz"
      },
      "execution_count": null,
      "outputs": []
    },
    {
      "cell_type": "code",
      "source": [
        "sns.countplot(x=df['periodo'].value_counts());\n",
        "plt.title('Frecuencia');\n",
        "plt.xticks(rotation=30);"
      ],
      "metadata": {
        "colab": {
          "base_uri": "https://localhost:8080/",
          "height": 547
        },
        "id": "Qj2JTmLQVjvb",
        "outputId": "f4a0edef-f9dc-4bed-9d78-2dc27204eca4"
      },
      "execution_count": null,
      "outputs": [
        {
          "output_type": "stream",
          "name": "stderr",
          "text": [
            "[distfit] >INFO> Using categorical units to plot a list of strings that are all parsable as floats or dates. If these strings should be plotted as numbers, cast to the appropriate data type before plotting.\n",
            "[distfit] >INFO> Using categorical units to plot a list of strings that are all parsable as floats or dates. If these strings should be plotted as numbers, cast to the appropriate data type before plotting.\n"
          ]
        },
        {
          "output_type": "display_data",
          "data": {
            "text/plain": [
              "<Figure size 640x480 with 1 Axes>"
            ],
            "image/png": "[encoded data removed]"
          },
          "metadata": {}
        }
      ]
    },
    {
      "cell_type": "markdown",
      "source": [
        "# Model\n",
        "\n",
        "## Approach and Methodology\n",
        "To address the problem of predicting economic losses due to financial risks, we employ an Aggregate Loss Distribution Approach. This approach involves combining the frequency and severity distributions of financial losses to model the total loss distribution effectively. The methodology includes the following steps:\n",
        "\n",
        "**1. Frequency Distribution:**\n",
        "\n",
        "This represents the number of financial loss events occurring over a specific period. It can be modeled using various statistical distributions, such as Poisson or Negative Binomial distributions, depending on the nature of the data.\n",
        "\n",
        "**2. Severity Distribution:**\n",
        "\n",
        "This represents the magnitude of losses associated with each event. Common distributions used for modeling severity include the Exponential, Gamma, or Pareto distributions, depending on the characteristics of the loss data.\n",
        "\n",
        "**3. Convolution of Distributions:**\n",
        "\n",
        "The total loss distribution is obtained by convolving the frequency and severity distributions. Mathematically, if $F(x)$ represents the cumulative distribution function (CDF) of the frequency distribution and $S(x)$ represents the CDF of the severity distribution, the convolution can be expressed as:\n",
        "\n",
        "$$L(x) = \\int_{0}^{x} f(x - y) \\cdot\\ s(y) dy$$\n",
        "\n",
        "where $f(x)$ is the probability density function (PDF) of the frequency distribution and s(x) is the PDF of the severity distribution. This integral calculates the total loss distribution by combining the frequency and severity data.\n"
      ],
      "metadata": {
        "id": "fCEIO8FHg6Iy"
      }
    },
    {
      "cell_type": "markdown",
      "source": [
        "## Frequency"
      ],
      "metadata": {
        "id": "VycKI5yqhGIV"
      }
    },
    {
      "cell_type": "code",
      "source": [
        "frequencies = df['periodo'].value_counts().sort_index()"
      ],
      "metadata": {
        "id": "de_dGMCnWP-k"
      },
      "execution_count": null,
      "outputs": []
    },
    {
      "cell_type": "code",
      "source": [
        "frequency_model = distfit(method='discrete')\n",
        "frequency_model.fit_transform(frequencies, verbose=1)\n",
        "mu = frequencies.mean()"
      ],
      "metadata": {
        "colab": {
          "base_uri": "https://localhost:8080/"
        },
        "id": "fVVtKfLsabC_",
        "outputId": "10dc7ca0-f8ef-40c6-84c8-d2555bf5bff9"
      },
      "execution_count": null,
      "outputs": [
        {
          "output_type": "stream",
          "name": "stderr",
          "text": [
            "[distfit] >INFO> fit\n",
            "[distfit] >INFO> transform\n",
            "[distfit] >INFO> Fit using binomial distribution.\n",
            "[distfit] >DEBUG> [distfit] >Initial estimate: n=1, p=1.35e+04\n",
            "[distfit] >DEBUG> [binomial] [RSS=0.597] Trying n=1 -> p=0.5, (initial=1)\n",
            "[distfit] >DEBUG> [binomial] [RSS=0.472] Trying n=2 -> p=0.5, (initial=1)\n",
            "[distfit] >INFO> [distfit] >[binomial] [RSS=0.472] [n=2] [p=0.500028] [chi^2=3.41e-05]\n",
            "[distfit] >INFO> Compute confidence intervals [discrete]\n"
          ]
        }
      ]
    },
    {
      "cell_type": "code",
      "source": [
        "frequency_model.model"
      ],
      "metadata": {
        "colab": {
          "base_uri": "https://localhost:8080/"
        },
        "id": "KeSgL4JqeDET",
        "outputId": "11a458a9-018f-46f4-f7f1-ab9da92c6b11"
      },
      "execution_count": null,
      "outputs": [
        {
          "output_type": "execute_result",
          "data": {
            "text/plain": [
              "{'name': 'binom',\n",
              " 'model': <scipy.stats._distn_infrastructure.rv_discrete_frozen at 0x7f705b645150>,\n",
              " 'params': (2, 0.500027968557964),\n",
              " 'score': 0.4722222230044626,\n",
              " 'chi2r': 3.4058580815323664e-05,\n",
              " 'n': 2,\n",
              " 'p': 0.500027968557964,\n",
              " 'CII_min_alpha': 0.0,\n",
              " 'CII_max_alpha': 2.0}"
            ]
          },
          "metadata": {},
          "execution_count": 39
        }
      ]
    },
    {
      "cell_type": "markdown",
      "source": [
        "## Severity"
      ],
      "metadata": {
        "id": "apKgMwA-g_FV"
      }
    },
    {
      "cell_type": "code",
      "source": [
        "severity_model = distfit(alpha=0.05, bins=50, stats='ks')\n",
        "severity_model.fit_transform(df['losses'], verbose=1)"
      ],
      "metadata": {
        "id": "4oB228hTIhya",
        "colab": {
          "base_uri": "https://localhost:8080/"
        },
        "outputId": "b47e316b-642c-41d9-9c28-1dbdd6936a42"
      },
      "execution_count": null,
      "outputs": [
        {
          "output_type": "stream",
          "name": "stderr",
          "text": [
            "[distfit] >INFO> fit\n",
            "[distfit] >INFO> transform\n",
            "[distfit] >DEBUG> (82.74602392210393, 107.88636857998125)\n",
            "[distfit] >INFO> [norm      ] [0.00 sec] [ks: 8.58113] [loc=82.746 scale=107.886]\n",
            "[distfit] >DEBUG> (0.9096250982120107, 81.83639882389193)\n",
            "[distfit] >INFO> [expon     ] [0.00 sec] [ks: 5.80095] [loc=0.910 scale=81.836]\n",
            "[distfit] >DEBUG> (6.803931979946593, -470.7896618465304, 471.69928694474237)\n",
            "[distfit] >INFO> [pareto    ] [0.20 sec] [ks: 1.66338] [loc=-470.790 scale=471.699]\n",
            "[distfit] >DEBUG> (0.791383557958335, 40.34912218958968, 48.531643389307035)\n",
            "[distfit] >INFO> [dweibull  ] [4.99 sec] [ks: 5.31808] [loc=40.349 scale=48.532]\n",
            "[distfit] >DEBUG> (1.508109581624651, 46.47432980540823, 31.879387186017247)\n",
            "[distfit] >INFO> [t         ] [19.4 sec] [ks: 3.23489] [loc=46.474 scale=31.879]\n",
            "[distfit] >DEBUG> (-0.5794101169812028, 35.90212231039201, 31.217073035355664)\n",
            "[distfit] >INFO> [genextreme] [8.85 sec] [ks: 4.42012] [loc=35.902 scale=31.217]\n",
            "[distfit] >DEBUG> (1.1193309044522617, 0.9093617082935235, 72.95090828823163)\n",
            "[distfit] >INFO> [gamma     ] [2.10 sec] [ks: 6.30723] [loc=0.909 scale=72.951]\n",
            "[distfit] >DEBUG> (0.9981201510636069, 0.304003497594704, 50.085702479507795)\n",
            "[distfit] >INFO> [lognorm   ] [0.08 sec] [ks: 0.748151] [loc=0.304 scale=50.086]\n",
            "[distfit] >DEBUG> (1.1163499032464417, 773.6568868555287, 0.9065529300391777, 56592.40529983249)\n",
            "[distfit] >INFO> [beta      ] [5.82 sec] [ks: 6.30723] [loc=0.907 scale=56592.405]\n",
            "[distfit] >DEBUG> (0.9096250982120107, 3681.885029947572)\n",
            "[distfit] >INFO> [uniform   ] [0.00 sec] [ks: 22.1094] [loc=0.910 scale=3681.885]\n",
            "[distfit] >DEBUG> (2070.938720315731, -41297.97275058342, 5419.4503649752005)\n",
            "[distfit] >INFO> [loggamma  ] [1.83 sec] [ks: 8.58113] [loc=-41297.973 scale=5419.450]\n",
            "[distfit] >INFO> [norm      ] [43.3 sec] [ks: 8.58113] [loc=82.746 scale=107.886]\n",
            "[distfit] >INFO> [expon     ] [43.3 sec] [ks: 5.80095] [loc=0.910 scale=81.836]\n",
            "[distfit] >INFO> [pareto    ] [43.3 sec] [ks: 1.66338] [loc=-470.790 scale=471.699]\n",
            "[distfit] >INFO> [dweibull  ] [43.1 sec] [ks: 5.31808] [loc=40.349 scale=48.532]\n",
            "[distfit] >INFO> [t         ] [38.1 sec] [ks: 3.23489] [loc=46.474 scale=31.879]\n",
            "[distfit] >INFO> [genextreme] [18.7 sec] [ks: 4.42012] [loc=35.902 scale=31.217]\n",
            "[distfit] >INFO> [gamma     ] [9.88 sec] [ks: 6.30723] [loc=0.909 scale=72.951]\n",
            "[distfit] >INFO> [lognorm   ] [7.78 sec] [ks: 0.748151] [loc=0.304 scale=50.086]\n",
            "[distfit] >INFO> [beta      ] [7.69 sec] [ks: 6.30723] [loc=0.907 scale=56592.405]\n",
            "[distfit] >INFO> [uniform   ] [1.87 sec] [ks: 22.1094] [loc=0.910 scale=3681.885]\n",
            "[distfit] >INFO> [loggamma  ] [1.86 sec] [ks: 8.58113] [loc=-41297.973 scale=5419.450]\n",
            "[distfit] >INFO> Compute confidence intervals [parametric]\n"
          ]
        },
        {
          "output_type": "execute_result",
          "data": {
            "text/plain": [
              "{'model': {'name': 'lognorm',\n",
              "  'score': 0.7481509319599611,\n",
              "  'loc': 0.304003497594704,\n",
              "  'scale': 50.085702479507795,\n",
              "  'arg': (0.9981201510636069,),\n",
              "  'params': (0.9981201510636069, 0.304003497594704, 50.085702479507795),\n",
              "  'model': <scipy.stats._distn_infrastructure.rv_continuous_frozen at 0x7f705b647160>,\n",
              "  'bootstrap_score': 0,\n",
              "  'bootstrap_pass': None,\n",
              "  'color': '#e41a1c',\n",
              "  'CII_min_alpha': 10.002530679863339,\n",
              "  'CII_max_alpha': 258.9595236318361},\n",
              " 'summary':           name      score           loc        scale  \\\n",
              " 0      lognorm   0.748151      0.304003    50.085702   \n",
              " 1       pareto   1.663383   -470.789662   471.699287   \n",
              " 2            t   3.234885      46.47433    31.879387   \n",
              " 3   genextreme   4.420122     35.902122    31.217073   \n",
              " 4     dweibull   5.318078     40.349122    48.531643   \n",
              " 5        expon   5.800951      0.909625    81.836399   \n",
              " 6        gamma   6.307231      0.909362    72.950908   \n",
              " 7         beta   6.307231      0.906553   56592.4053   \n",
              " 8         norm   8.581128     82.746024   107.886369   \n",
              " 9     loggamma   8.581128 -41297.972751  5419.450365   \n",
              " 10     uniform  22.109402      0.909625   3681.88503   \n",
              " \n",
              "                                         arg  \\\n",
              " 0                     (0.9981201510636069,)   \n",
              " 1                      (6.803931979946593,)   \n",
              " 2                      (1.508109581624651,)   \n",
              " 3                    (-0.5794101169812028,)   \n",
              " 4                      (0.791383557958335,)   \n",
              " 5                                        ()   \n",
              " 6                     (1.1193309044522617,)   \n",
              " 7   (1.1163499032464417, 773.6568868555287)   \n",
              " 8                                        ()   \n",
              " 9                      (2070.938720315731,)   \n",
              " 10                                       ()   \n",
              " \n",
              "                                                params  \\\n",
              " 0   (0.9981201510636069, 0.304003497594704, 50.085...   \n",
              " 1   (6.803931979946593, -470.7896618465304, 471.69...   \n",
              " 2   (1.508109581624651, 46.47432980540823, 31.8793...   \n",
              " 3   (-0.5794101169812028, 35.90212231039201, 31.21...   \n",
              " 4   (0.791383557958335, 40.34912218958968, 48.5316...   \n",
              " 5             (0.9096250982120107, 81.83639882389193)   \n",
              " 6   (1.1193309044522617, 0.9093617082935235, 72.95...   \n",
              " 7   (1.1163499032464417, 773.6568868555287, 0.9065...   \n",
              " 8             (82.74602392210393, 107.88636857998125)   \n",
              " 9   (2070.938720315731, -41297.97275058342, 5419.4...   \n",
              " 10            (0.9096250982120107, 3681.885029947572)   \n",
              " \n",
              "                                                 model bootstrap_score  \\\n",
              " 0   <scipy.stats._distn_infrastructure.rv_continuo...               0   \n",
              " 1   <scipy.stats._distn_infrastructure.rv_continuo...               0   \n",
              " 2   <scipy.stats._distn_infrastructure.rv_continuo...               0   \n",
              " 3   <scipy.stats._distn_infrastructure.rv_continuo...               0   \n",
              " 4   <scipy.stats._distn_infrastructure.rv_continuo...               0   \n",
              " 5   <scipy.stats._distn_infrastructure.rv_continuo...               0   \n",
              " 6   <scipy.stats._distn_infrastructure.rv_continuo...               0   \n",
              " 7   <scipy.stats._distn_infrastructure.rv_continuo...               0   \n",
              " 8   <scipy.stats._distn_infrastructure.rv_continuo...               0   \n",
              " 9   <scipy.stats._distn_infrastructure.rv_continuo...               0   \n",
              " 10  <scipy.stats._distn_infrastructure.rv_continuo...               0   \n",
              " \n",
              "    bootstrap_pass    color  \n",
              " 0            None  #e41a1c  \n",
              " 1            None  #e41a1c  \n",
              " 2            None  #377eb8  \n",
              " 3            None  #4daf4a  \n",
              " 4            None  #984ea3  \n",
              " 5            None  #ff7f00  \n",
              " 6            None  #ffff33  \n",
              " 7            None  #a65628  \n",
              " 8            None  #f781bf  \n",
              " 9            None  #999999  \n",
              " 10           None  #999999  ,\n",
              " 'histdata': (array([8.86947614e-03, 2.82250135e-03, 9.60401387e-04, 4.19700005e-04,\n",
              "         2.02031324e-04, 1.10464975e-04, 6.59779446e-05, 3.77136287e-05,\n",
              "         2.53375377e-05, 1.55537360e-05, 1.20416021e-05, 1.09545130e-05,\n",
              "         6.10442327e-06, 4.68284525e-06, 3.34488946e-06, 2.84315604e-06,\n",
              "         2.34142262e-06, 1.17071131e-06, 1.17071131e-06, 9.19844602e-07,\n",
              "         9.19844602e-07, 5.85355656e-07, 5.85355656e-07, 5.85355656e-07,\n",
              "         4.18111183e-07, 4.18111183e-07, 4.18111183e-07, 8.36222366e-08,\n",
              "         1.67244473e-07, 0.00000000e+00, 8.36222366e-08, 0.00000000e+00,\n",
              "         8.36222366e-08, 0.00000000e+00, 8.36222366e-08, 2.50866710e-07,\n",
              "         0.00000000e+00, 0.00000000e+00, 8.36222366e-08, 1.67244473e-07,\n",
              "         0.00000000e+00, 0.00000000e+00, 8.36222366e-08, 8.36222366e-08,\n",
              "         8.36222366e-08, 0.00000000e+00, 0.00000000e+00, 0.00000000e+00,\n",
              "         0.00000000e+00, 8.36222366e-08]),\n",
              "  array([  37.7284754 ,  111.366176  ,  185.0038766 ,  258.64157719,\n",
              "          332.27927779,  405.91697839,  479.55467899,  553.19237959,\n",
              "          626.83008019,  700.46778079,  774.10548139,  847.74318199,\n",
              "          921.38088259,  995.01858318, 1068.65628378, 1142.29398438,\n",
              "         1215.93168498, 1289.56938558, 1363.20708618, 1436.84478678,\n",
              "         1510.48248738, 1584.12018798, 1657.75788857, 1731.39558917,\n",
              "         1805.03328977, 1878.67099037, 1952.30869097, 2025.94639157,\n",
              "         2099.58409217, 2173.22179277, 2246.85949337, 2320.49719397,\n",
              "         2394.13489456, 2467.77259516, 2541.41029576, 2615.04799636,\n",
              "         2688.68569696, 2762.32339756, 2835.96109816, 2909.59879876,\n",
              "         2983.23649936, 3056.87419995, 3130.51190055, 3204.14960115,\n",
              "         3277.78730175, 3351.42500235, 3425.06270295, 3498.70040355,\n",
              "         3572.33810415, 3645.97580475])),\n",
              " 'size': 162397,\n",
              " 'alpha': 0.05,\n",
              " 'stats': 'ks',\n",
              " 'bins': 50,\n",
              " 'bound': 'both',\n",
              " 'name': 'popular',\n",
              " 'method': 'parametric',\n",
              " 'multtest': 'fdr_bh',\n",
              " 'n_perm': 10000,\n",
              " 'smooth': None,\n",
              " 'weighted': True,\n",
              " 'f': 1.5,\n",
              " 'n_boots': None,\n",
              " 'random_state': None}"
            ]
          },
          "metadata": {},
          "execution_count": 29
        }
      ]
    },
    {
      "cell_type": "code",
      "source": [
        "# model.plot(verbose=1);\n",
        "severity_model.summary"
      ],
      "metadata": {
        "id": "99Xlb_xRP2da",
        "colab": {
          "base_uri": "https://localhost:8080/",
          "height": 744
        },
        "outputId": "df68d4ba-3f1c-4263-8a6c-f5722414e01b"
      },
      "execution_count": null,
      "outputs": [
        {
          "output_type": "execute_result",
          "data": {
            "text/plain": [
              "          name      score           loc        scale  \\\n",
              "0      lognorm   0.748151      0.304003    50.085702   \n",
              "1       pareto   1.663383   -470.789662   471.699287   \n",
              "2            t   3.234885      46.47433    31.879387   \n",
              "3   genextreme   4.420122     35.902122    31.217073   \n",
              "4     dweibull   5.318078     40.349122    48.531643   \n",
              "5        expon   5.800951      0.909625    81.836399   \n",
              "6        gamma   6.307231      0.909362    72.950908   \n",
              "7         beta   6.307231      0.906553   56592.4053   \n",
              "8         norm   8.581128     82.746024   107.886369   \n",
              "9     loggamma   8.581128 -41297.972751  5419.450365   \n",
              "10     uniform  22.109402      0.909625   3681.88503   \n",
              "\n",
              "                                        arg  \\\n",
              "0                     (0.9981201510636069,)   \n",
              "1                      (6.803931979946593,)   \n",
              "2                      (1.508109581624651,)   \n",
              "3                    (-0.5794101169812028,)   \n",
              "4                      (0.791383557958335,)   \n",
              "5                                        ()   \n",
              "6                     (1.1193309044522617,)   \n",
              "7   (1.1163499032464417, 773.6568868555287)   \n",
              "8                                        ()   \n",
              "9                      (2070.938720315731,)   \n",
              "10                                       ()   \n",
              "\n",
              "                                               params  \\\n",
              "0   (0.9981201510636069, 0.304003497594704, 50.085...   \n",
              "1   (6.803931979946593, -470.7896618465304, 471.69...   \n",
              "2   (1.508109581624651, 46.47432980540823, 31.8793...   \n",
              "3   (-0.5794101169812028, 35.90212231039201, 31.21...   \n",
              "4   (0.791383557958335, 40.34912218958968, 48.5316...   \n",
              "5             (0.9096250982120107, 81.83639882389193)   \n",
              "6   (1.1193309044522617, 0.9093617082935235, 72.95...   \n",
              "7   (1.1163499032464417, 773.6568868555287, 0.9065...   \n",
              "8             (82.74602392210393, 107.88636857998125)   \n",
              "9   (2070.938720315731, -41297.97275058342, 5419.4...   \n",
              "10            (0.9096250982120107, 3681.885029947572)   \n",
              "\n",
              "                                                model bootstrap_score  \\\n",
              "0   <scipy.stats._distn_infrastructure.rv_continuo...               0   \n",
              "1   <scipy.stats._distn_infrastructure.rv_continuo...               0   \n",
              "2   <scipy.stats._distn_infrastructure.rv_continuo...               0   \n",
              "3   <scipy.stats._distn_infrastructure.rv_continuo...               0   \n",
              "4   <scipy.stats._distn_infrastructure.rv_continuo...               0   \n",
              "5   <scipy.stats._distn_infrastructure.rv_continuo...               0   \n",
              "6   <scipy.stats._distn_infrastructure.rv_continuo...               0   \n",
              "7   <scipy.stats._distn_infrastructure.rv_continuo...               0   \n",
              "8   <scipy.stats._distn_infrastructure.rv_continuo...               0   \n",
              "9   <scipy.stats._distn_infrastructure.rv_continuo...               0   \n",
              "10  <scipy.stats._distn_infrastructure.rv_continuo...               0   \n",
              "\n",
              "   bootstrap_pass    color  \n",
              "0            None  #e41a1c  \n",
              "1            None  #e41a1c  \n",
              "2            None  #377eb8  \n",
              "3            None  #4daf4a  \n",
              "4            None  #984ea3  \n",
              "5            None  #ff7f00  \n",
              "6            None  #ffff33  \n",
              "7            None  #a65628  \n",
              "8            None  #f781bf  \n",
              "9            None  #999999  \n",
              "10           None  #999999  "
            ],
            "text/html": [
              "\n",
              "  <div id=\"df-43bbb20c-d004-4028-9932-c19c0562cd4a\" class=\"colab-df-container\">\n",
              "    <div>\n",
              "<style scoped>\n",
              "    .dataframe tbody tr th:only-of-type {\n",
              "        vertical-align: middle;\n",
              "    }\n",
              "\n",
              "    .dataframe tbody tr th {\n",
              "        vertical-align: top;\n",
              "    }\n",
              "\n",
              "    .dataframe thead th {\n",
              "        text-align: right;\n",
              "    }\n",
              "</style>\n",
              "<table border=\"1\" class=\"dataframe\">\n",
              "  <thead>\n",
              "    <tr style=\"text-align: right;\">\n",
              "      <th></th>\n",
              "      <th>name</th>\n",
              "      <th>score</th>\n",
              "      <th>loc</th>\n",
              "      <th>scale</th>\n",
              "      <th>arg</th>\n",
              "      <th>params</th>\n",
              "      <th>model</th>\n",
              "      <th>bootstrap_score</th>\n",
              "      <th>bootstrap_pass</th>\n",
              "      <th>color</th>\n",
              "    </tr>\n",
              "  </thead>\n",
              "  <tbody>\n",
              "    <tr>\n",
              "      <th>0</th>\n",
              "      <td>lognorm</td>\n",
              "      <td>0.748151</td>\n",
              "      <td>0.304003</td>\n",
              "      <td>50.085702</td>\n",
              "      <td>(0.9981201510636069,)</td>\n",
              "      <td>(0.9981201510636069, 0.304003497594704, 50.085...</td>\n",
              "      <td>&lt;scipy.stats._distn_infrastructure.rv_continuo...</td>\n",
              "      <td>0</td>\n",
              "      <td>None</td>\n",
              "      <td>#e41a1c</td>\n",
              "    </tr>\n",
              "    <tr>\n",
              "      <th>1</th>\n",
              "      <td>pareto</td>\n",
              "      <td>1.663383</td>\n",
              "      <td>-470.789662</td>\n",
              "      <td>471.699287</td>\n",
              "      <td>(6.803931979946593,)</td>\n",
              "      <td>(6.803931979946593, -470.7896618465304, 471.69...</td>\n",
              "      <td>&lt;scipy.stats._distn_infrastructure.rv_continuo...</td>\n",
              "      <td>0</td>\n",
              "      <td>None</td>\n",
              "      <td>#e41a1c</td>\n",
              "    </tr>\n",
              "    <tr>\n",
              "      <th>2</th>\n",
              "      <td>t</td>\n",
              "      <td>3.234885</td>\n",
              "      <td>46.47433</td>\n",
              "      <td>31.879387</td>\n",
              "      <td>(1.508109581624651,)</td>\n",
              "      <td>(1.508109581624651, 46.47432980540823, 31.8793...</td>\n",
              "      <td>&lt;scipy.stats._distn_infrastructure.rv_continuo...</td>\n",
              "      <td>0</td>\n",
              "      <td>None</td>\n",
              "      <td>#377eb8</td>\n",
              "    </tr>\n",
              "    <tr>\n",
              "      <th>3</th>\n",
              "      <td>genextreme</td>\n",
              "      <td>4.420122</td>\n",
              "      <td>35.902122</td>\n",
              "      <td>31.217073</td>\n",
              "      <td>(-0.5794101169812028,)</td>\n",
              "      <td>(-0.5794101169812028, 35.90212231039201, 31.21...</td>\n",
              "      <td>&lt;scipy.stats._distn_infrastructure.rv_continuo...</td>\n",
              "      <td>0</td>\n",
              "      <td>None</td>\n",
              "      <td>#4daf4a</td>\n",
              "    </tr>\n",
              "    <tr>\n",
              "      <th>4</th>\n",
              "      <td>dweibull</td>\n",
              "      <td>5.318078</td>\n",
              "      <td>40.349122</td>\n",
              "      <td>48.531643</td>\n",
              "      <td>(0.791383557958335,)</td>\n",
              "      <td>(0.791383557958335, 40.34912218958968, 48.5316...</td>\n",
              "      <td>&lt;scipy.stats._distn_infrastructure.rv_continuo...</td>\n",
              "      <td>0</td>\n",
              "      <td>None</td>\n",
              "      <td>#984ea3</td>\n",
              "    </tr>\n",
              "    <tr>\n",
              "      <th>5</th>\n",
              "      <td>expon</td>\n",
              "      <td>5.800951</td>\n",
              "      <td>0.909625</td>\n",
              "      <td>81.836399</td>\n",
              "      <td>()</td>\n",
              "      <td>(0.9096250982120107, 81.83639882389193)</td>\n",
              "      <td>&lt;scipy.stats._distn_infrastructure.rv_continuo...</td>\n",
              "      <td>0</td>\n",
              "      <td>None</td>\n",
              "      <td>#ff7f00</td>\n",
              "    </tr>\n",
              "    <tr>\n",
              "      <th>6</th>\n",
              "      <td>gamma</td>\n",
              "      <td>6.307231</td>\n",
              "      <td>0.909362</td>\n",
              "      <td>72.950908</td>\n",
              "      <td>(1.1193309044522617,)</td>\n",
              "      <td>(1.1193309044522617, 0.9093617082935235, 72.95...</td>\n",
              "      <td>&lt;scipy.stats._distn_infrastructure.rv_continuo...</td>\n",
              "      <td>0</td>\n",
              "      <td>None</td>\n",
              "      <td>#ffff33</td>\n",
              "    </tr>\n",
              "    <tr>\n",
              "      <th>7</th>\n",
              "      <td>beta</td>\n",
              "      <td>6.307231</td>\n",
              "      <td>0.906553</td>\n",
              "      <td>56592.4053</td>\n",
              "      <td>(1.1163499032464417, 773.6568868555287)</td>\n",
              "      <td>(1.1163499032464417, 773.6568868555287, 0.9065...</td>\n",
              "      <td>&lt;scipy.stats._distn_infrastructure.rv_continuo...</td>\n",
              "      <td>0</td>\n",
              "      <td>None</td>\n",
              "      <td>#a65628</td>\n",
              "    </tr>\n",
              "    <tr>\n",
              "      <th>8</th>\n",
              "      <td>norm</td>\n",
              "      <td>8.581128</td>\n",
              "      <td>82.746024</td>\n",
              "      <td>107.886369</td>\n",
              "      <td>()</td>\n",
              "      <td>(82.74602392210393, 107.88636857998125)</td>\n",
              "      <td>&lt;scipy.stats._distn_infrastructure.rv_continuo...</td>\n",
              "      <td>0</td>\n",
              "      <td>None</td>\n",
              "      <td>#f781bf</td>\n",
              "    </tr>\n",
              "    <tr>\n",
              "      <th>9</th>\n",
              "      <td>loggamma</td>\n",
              "      <td>8.581128</td>\n",
              "      <td>-41297.972751</td>\n",
              "      <td>5419.450365</td>\n",
              "      <td>(2070.938720315731,)</td>\n",
              "      <td>(2070.938720315731, -41297.97275058342, 5419.4...</td>\n",
              "      <td>&lt;scipy.stats._distn_infrastructure.rv_continuo...</td>\n",
              "      <td>0</td>\n",
              "      <td>None</td>\n",
              "      <td>#999999</td>\n",
              "    </tr>\n",
              "    <tr>\n",
              "      <th>10</th>\n",
              "      <td>uniform</td>\n",
              "      <td>22.109402</td>\n",
              "      <td>0.909625</td>\n",
              "      <td>3681.88503</td>\n",
              "      <td>()</td>\n",
              "      <td>(0.9096250982120107, 3681.885029947572)</td>\n",
              "      <td>&lt;scipy.stats._distn_infrastructure.rv_continuo...</td>\n",
              "      <td>0</td>\n",
              "      <td>None</td>\n",
              "      <td>#999999</td>\n",
              "    </tr>\n",
              "  </tbody>\n",
              "</table>\n",
              "</div>\n",
              "    <div class=\"colab-df-buttons\">\n",
              "\n",
              "  <div class=\"colab-df-container\">\n",
              "    <button class=\"colab-df-convert\" onclick=\"convertToInteractive('df-43bbb20c-d004-4028-9932-c19c0562cd4a')\"\n",
              "            title=\"Convert this dataframe to an interactive table.\"\n",
              "            style=\"display:none;\">\n",
              "\n",
              "  <svg xmlns=\"http://www.w3.org/2000/svg\" height=\"24px\" viewBox=\"0 -960 960 960\">\n",
              "    <path d=\"M120-120v-720h720v720H120Zm60-500h600v-160H180v160Zm220 220h160v-160H400v160Zm0 220h160v-160H400v160ZM180-400h160v-160H180v160Zm440 0h160v-160H620v160ZM180-180h160v-160H180v160Zm440 0h160v-160H620v160Z\"/>\n",
              "  </svg>\n",
              "    </button>\n",
              "\n",
              "  <style>\n",
              "    .colab-df-container {\n",
              "      display:flex;\n",
              "      gap: 12px;\n",
              "    }\n",
              "\n",
              "    .colab-df-convert {\n",
              "      background-color: #E8F0FE;\n",
              "      border: none;\n",
              "      border-radius: 50%;\n",
              "      cursor: pointer;\n",
              "      display: none;\n",
              "      fill: #1967D2;\n",
              "      height: 32px;\n",
              "      padding: 0 0 0 0;\n",
              "      width: 32px;\n",
              "    }\n",
              "\n",
              "    .colab-df-convert:hover {\n",
              "      background-color: #E2EBFA;\n",
              "      box-shadow: 0px 1px 2px rgba(60, 64, 67, 0.3), 0px 1px 3px 1px rgba(60, 64, 67, 0.15);\n",
              "      fill: #174EA6;\n",
              "    }\n",
              "\n",
              "    .colab-df-buttons div {\n",
              "      margin-bottom: 4px;\n",
              "    }\n",
              "\n",
              "    [theme=dark] .colab-df-convert {\n",
              "      background-color: #3B4455;\n",
              "      fill: #D2E3FC;\n",
              "    }\n",
              "\n",
              "    [theme=dark] .colab-df-convert:hover {\n",
              "      background-color: #434B5C;\n",
              "      box-shadow: 0px 1px 3px 1px rgba(0, 0, 0, 0.15);\n",
              "      filter: drop-shadow(0px 1px 2px rgba(0, 0, 0, 0.3));\n",
              "      fill: #FFFFFF;\n",
              "    }\n",
              "  </style>\n",
              "\n",
              "    <script>\n",
              "      const buttonEl =\n",
              "        document.querySelector('#df-43bbb20c-d004-4028-9932-c19c0562cd4a button.colab-df-convert');\n",
              "      buttonEl.style.display =\n",
              "        google.colab.kernel.accessAllowed ? 'block' : 'none';\n",
              "\n",
              "      async function convertToInteractive(key) {\n",
              "        const element = document.querySelector('#df-43bbb20c-d004-4028-9932-c19c0562cd4a');\n",
              "        const dataTable =\n",
              "          await google.colab.kernel.invokeFunction('convertToInteractive',\n",
              "                                                    [key], {});\n",
              "        if (!dataTable) return;\n",
              "\n",
              "        const docLinkHtml = 'Like what you see? Visit the ' +\n",
              "          '<a target=\"_blank\" href=https://colab.research.google.com/notebooks/data_table.ipynb>data table notebook</a>'\n",
              "          + ' to learn more about interactive tables.';\n",
              "        element.innerHTML = '';\n",
              "        dataTable['output_type'] = 'display_data';\n",
              "        await google.colab.output.renderOutput(dataTable, element);\n",
              "        const docLink = document.createElement('div');\n",
              "        docLink.innerHTML = docLinkHtml;\n",
              "        element.appendChild(docLink);\n",
              "      }\n",
              "    </script>\n",
              "  </div>\n",
              "\n",
              "\n",
              "<div id=\"df-8c304a2a-c823-4e46-a8e7-c56a15b3611d\">\n",
              "  <button class=\"colab-df-quickchart\" onclick=\"quickchart('df-8c304a2a-c823-4e46-a8e7-c56a15b3611d')\"\n",
              "            title=\"Suggest charts\"\n",
              "            style=\"display:none;\">\n",
              "\n",
              "<svg xmlns=\"http://www.w3.org/2000/svg\" height=\"24px\"viewBox=\"0 0 24 24\"\n",
              "     width=\"24px\">\n",
              "    <g>\n",
              "        <path d=\"M19 3H5c-1.1 0-2 .9-2 2v14c0 1.1.9 2 2 2h14c1.1 0 2-.9 2-2V5c0-1.1-.9-2-2-2zM9 17H7v-7h2v7zm4 0h-2V7h2v10zm4 0h-2v-4h2v4z\"/>\n",
              "    </g>\n",
              "</svg>\n",
              "  </button>\n",
              "\n",
              "<style>\n",
              "  .colab-df-quickchart {\n",
              "      --bg-color: #E8F0FE;\n",
              "      --fill-color: #1967D2;\n",
              "      --hover-bg-color: #E2EBFA;\n",
              "      --hover-fill-color: #174EA6;\n",
              "      --disabled-fill-color: #AAA;\n",
              "      --disabled-bg-color: #DDD;\n",
              "  }\n",
              "\n",
              "  [theme=dark] .colab-df-quickchart {\n",
              "      --bg-color: #3B4455;\n",
              "      --fill-color: #D2E3FC;\n",
              "      --hover-bg-color: #434B5C;\n",
              "      --hover-fill-color: #FFFFFF;\n",
              "      --disabled-bg-color: #3B4455;\n",
              "      --disabled-fill-color: #666;\n",
              "  }\n",
              "\n",
              "  .colab-df-quickchart {\n",
              "    background-color: var(--bg-color);\n",
              "    border: none;\n",
              "    border-radius: 50%;\n",
              "    cursor: pointer;\n",
              "    display: none;\n",
              "    fill: var(--fill-color);\n",
              "    height: 32px;\n",
              "    padding: 0;\n",
              "    width: 32px;\n",
              "  }\n",
              "\n",
              "  .colab-df-quickchart:hover {\n",
              "    background-color: var(--hover-bg-color);\n",
              "    box-shadow: 0 1px 2px rgba(60, 64, 67, 0.3), 0 1px 3px 1px rgba(60, 64, 67, 0.15);\n",
              "    fill: var(--button-hover-fill-color);\n",
              "  }\n",
              "\n",
              "  .colab-df-quickchart-complete:disabled,\n",
              "  .colab-df-quickchart-complete:disabled:hover {\n",
              "    background-color: var(--disabled-bg-color);\n",
              "    fill: var(--disabled-fill-color);\n",
              "    box-shadow: none;\n",
              "  }\n",
              "\n",
              "  .colab-df-spinner {\n",
              "    border: 2px solid var(--fill-color);\n",
              "    border-color: transparent;\n",
              "    border-bottom-color: var(--fill-color);\n",
              "    animation:\n",
              "      spin 1s steps(1) infinite;\n",
              "  }\n",
              "\n",
              "  @keyframes spin {\n",
              "    0% {\n",
              "      border-color: transparent;\n",
              "      border-bottom-color: var(--fill-color);\n",
              "      border-left-color: var(--fill-color);\n",
              "    }\n",
              "    20% {\n",
              "      border-color: transparent;\n",
              "      border-left-color: var(--fill-color);\n",
              "      border-top-color: var(--fill-color);\n",
              "    }\n",
              "    30% {\n",
              "      border-color: transparent;\n",
              "      border-left-color: var(--fill-color);\n",
              "      border-top-color: var(--fill-color);\n",
              "      border-right-color: var(--fill-color);\n",
              "    }\n",
              "    40% {\n",
              "      border-color: transparent;\n",
              "      border-right-color: var(--fill-color);\n",
              "      border-top-color: var(--fill-color);\n",
              "    }\n",
              "    60% {\n",
              "      border-color: transparent;\n",
              "      border-right-color: var(--fill-color);\n",
              "    }\n",
              "    80% {\n",
              "      border-color: transparent;\n",
              "      border-right-color: var(--fill-color);\n",
              "      border-bottom-color: var(--fill-color);\n",
              "    }\n",
              "    90% {\n",
              "      border-color: transparent;\n",
              "      border-bottom-color: var(--fill-color);\n",
              "    }\n",
              "  }\n",
              "</style>\n",
              "\n",
              "  <script>\n",
              "    async function quickchart(key) {\n",
              "      const quickchartButtonEl =\n",
              "        document.querySelector('#' + key + ' button');\n",
              "      quickchartButtonEl.disabled = true;  // To prevent multiple clicks.\n",
              "      quickchartButtonEl.classList.add('colab-df-spinner');\n",
              "      try {\n",
              "        const charts = await google.colab.kernel.invokeFunction(\n",
              "            'suggestCharts', [key], {});\n",
              "      } catch (error) {\n",
              "        console.error('Error during call to suggestCharts:', error);\n",
              "      }\n",
              "      quickchartButtonEl.classList.remove('colab-df-spinner');\n",
              "      quickchartButtonEl.classList.add('colab-df-quickchart-complete');\n",
              "    }\n",
              "    (() => {\n",
              "      let quickchartButtonEl =\n",
              "        document.querySelector('#df-8c304a2a-c823-4e46-a8e7-c56a15b3611d button');\n",
              "      quickchartButtonEl.style.display =\n",
              "        google.colab.kernel.accessAllowed ? 'block' : 'none';\n",
              "    })();\n",
              "  </script>\n",
              "</div>\n",
              "\n",
              "    </div>\n",
              "  </div>\n"
            ],
            "application/vnd.google.colaboratory.intrinsic+json": {
              "type": "dataframe",
              "repr_error": "Out of range float values are not JSON compliant: nan"
            }
          },
          "metadata": {},
          "execution_count": 30
        }
      ]
    },
    {
      "cell_type": "code",
      "source": [
        "severity_model.model"
      ],
      "metadata": {
        "colab": {
          "base_uri": "https://localhost:8080/"
        },
        "id": "R7FkMPl5nemB",
        "outputId": "68238f1d-b8d0-420a-ff3f-1ccd42cef15c"
      },
      "execution_count": null,
      "outputs": [
        {
          "output_type": "execute_result",
          "data": {
            "text/plain": [
              "{'name': 'lognorm',\n",
              " 'score': 0.7481509319599611,\n",
              " 'loc': 0.304003497594704,\n",
              " 'scale': 50.085702479507795,\n",
              " 'arg': (0.9981201510636069,),\n",
              " 'params': (0.9981201510636069, 0.304003497594704, 50.085702479507795),\n",
              " 'model': <scipy.stats._distn_infrastructure.rv_continuous_frozen at 0x7f705b647160>,\n",
              " 'bootstrap_score': 0,\n",
              " 'bootstrap_pass': None,\n",
              " 'color': '#e41a1c',\n",
              " 'CII_min_alpha': 10.002530679863339,\n",
              " 'CII_max_alpha': 258.9595236318361}"
            ]
          },
          "metadata": {},
          "execution_count": 31
        }
      ]
    },
    {
      "cell_type": "code",
      "source": [
        "import inspect\n",
        "# sig = inspect.signature(stats.lognorm._pdf)\n",
        "\n",
        "severity_distribution = severity_model.model['name']\n",
        "sig = eval(f'inspect.signature(stats.{severity_distribution}._pdf)')\n",
        "arg_names = [p for p in sig.parameters.keys() if p not in ['self', 'x']]\n",
        "arg_values = [x for x in severity_model.model['arg']]\n",
        "parameters_str = ', '.join([f'{v}' for v in arg_values])\n",
        "loc = severity_model.model['loc']\n",
        "scale = severity_model.model['scale']\n",
        "\n",
        "eval('stats.{}.rvs({}, loc={}, scale={}, size=100000)'.format(severity_distribution, parameters_str, loc, scale))"
      ],
      "metadata": {
        "colab": {
          "base_uri": "https://localhost:8080/"
        },
        "id": "yYCbr0qyTsx_",
        "outputId": "558e104d-e751-43b6-99a6-668f82c32f47"
      },
      "execution_count": null,
      "outputs": [
        {
          "output_type": "execute_result",
          "data": {
            "text/plain": [
              "array([21.61652315, 15.33117746, 25.88552486, ..., 58.3151072 ,\n",
              "       54.58469472, 18.09429205])"
            ]
          },
          "metadata": {},
          "execution_count": 32
        }
      ]
    },
    {
      "cell_type": "code",
      "source": [
        "parameters_dict = {}\n",
        "[parameters_dict.update({arg_names[0]: x}) for i, x in enumerate(severity_model.model['arg'])]\n",
        "parameters_dict.update({'loc': loc})\n",
        "parameters_dict.update({'scale': scale})"
      ],
      "metadata": {
        "id": "aq1noQtwPKfF"
      },
      "execution_count": null,
      "outputs": []
    },
    {
      "cell_type": "code",
      "source": [
        "res = stats.goodness_of_fit(\n",
        "  dist=eval(f\"stats.{severity_model.model['name']}\"),\n",
        "  data=df['losses'], statistic='ks',\n",
        "  fit_params=parameters_dict,\n",
        "  n_mc_samples=1000,\n",
        "  random_state=17\n",
        ")\n",
        "pvalue = res.pvalue"
      ],
      "metadata": {
        "colab": {
          "base_uri": "https://localhost:8080/"
        },
        "id": "4uuqMYZbU52D",
        "outputId": "dc01b10f-44a0-4787-8683-26477430b0bf"
      },
      "execution_count": null,
      "outputs": [
        {
          "output_type": "execute_result",
          "data": {
            "text/plain": [
              "0.5614385614385614"
            ]
          },
          "metadata": {},
          "execution_count": 35
        }
      ]
    },
    {
      "cell_type": "markdown",
      "source": [
        "# Monte Carlo\n",
        "\n",
        "**4. Monte Carlo Simulations:**\n",
        "\n",
        "Monte Carlo simulations are used to estimate the aggregate loss distribution by generating random samples based on the frequency and severity distributions. The process involves the following steps:\n",
        "\n",
        "1. Simulate Number of Events: For each simulation run, draw a random number from the frequency distribution to determine the number of loss events.\n",
        "2. Simulate Loss Amounts: For each event, draw random loss amounts from the severity distribution.\n",
        "3. Aggregate Loss Calculation: Sum the loss amounts for each simulation run to compute the total loss.\n",
        "   \n",
        "Mathematically, if $N$ represents the number of simulations, $E_{i}$ is the number of events in the $i-th$ simulation, and $\\lbrace L_{i, j} \\rbrace_{j=1}^{E_i}$ are the simulated loss amounts for the $i-th$ simulation, the total loss for the $i-th$ simulation can be expressed as:\n",
        "\n",
        "$$T_i = \\sum_{j=1}^{E_i} L_{i, j}.$$\n",
        "\n",
        "The aggregate loss distribution is then approximated by the empirical distribution of $\\lbrace T_i \\rbrace_{i=1}^{N}$, which represents the total losses over all simulations.\n",
        "\n",
        "$$\\hat{L}(x) = \\frac{1}{N} \\sum_{i=1}^{N} \\mathbb{I}(T_{i} \\leq x)$$\n",
        "\n",
        "where $\\mathbb{I}(T_{i} \\leq x)$ is an indicator function that equals $1$ if $T_i$ is less than or equal to $x$ and $0$ otherwise. This approximation helps in estimating the probability of various levels of aggregate losses."
      ],
      "metadata": {
        "id": "Sni9IKWbhCXl"
      }
    },
    {
      "cell_type": "code",
      "source": [
        "print('Poisson parameter:', mu)\n",
        "print('Severity model:', severity_distribution, '\\n\\tparameters:', parameters_dict)"
      ],
      "metadata": {
        "colab": {
          "base_uri": "https://localhost:8080/"
        },
        "id": "0cn3fqV4hGJf",
        "outputId": "872535b7-a9fb-4564-f62a-68d196ce8f9e"
      },
      "execution_count": null,
      "outputs": [
        {
          "output_type": "stream",
          "name": "stdout",
          "text": [
            "Poisson parameter: 13533.083333333334\n",
            "Severity model: lognorm \n",
            "\tparameters: {'s': 0.9981201510636069, 'loc': 0.304003497594704, 'scale': 50.085702479507795}\n"
          ]
        }
      ]
    },
    {
      "cell_type": "code",
      "source": [
        "simulations = []\n",
        "\n",
        "for i in range(100000):\n",
        "  frequency = int(stats.poisson.ppf(q=stats.uniform.rvs(size=1), mu=mu))\n",
        "  simulations.append(np.sum(eval('stats.{}.rvs({}, loc={}, scale={}, size={})'.format(severity_distribution, parameters_str, loc, scale, frequency))))"
      ],
      "metadata": {
        "id": "OJ4xqVjTlMmY"
      },
      "execution_count": null,
      "outputs": []
    },
    {
      "cell_type": "code",
      "source": [
        "print(pd.Series(simulations).describe(percentiles=[x/100 for x in range(10, 91, 10)] + [0.95, 0.999]).to_string())"
      ],
      "metadata": {
        "colab": {
          "base_uri": "https://localhost:8080/"
        },
        "id": "gcXCzE7X0PsX",
        "outputId": "869a3669-0216-4332-f5ce-47e866c387a8"
      },
      "execution_count": null,
      "outputs": [
        {
          "output_type": "stream",
          "name": "stdout",
          "text": [
            "count    1.000000e+05\n",
            "mean     1.119547e+06\n",
            "std      1.582607e+04\n",
            "min      1.047099e+06\n",
            "10%      1.099464e+06\n",
            "20%      1.106259e+06\n",
            "30%      1.111168e+06\n",
            "40%      1.115480e+06\n",
            "50%      1.119451e+06\n",
            "60%      1.123387e+06\n",
            "70%      1.127749e+06\n",
            "80%      1.132794e+06\n",
            "90%      1.139919e+06\n",
            "95%      1.145867e+06\n",
            "99.9%    1.169090e+06\n",
            "max      1.184665e+06\n"
          ]
        }
      ]
    },
    {
      "cell_type": "code",
      "source": [
        "df.groupby('periodo')['losses'].sum()"
      ],
      "metadata": {
        "colab": {
          "base_uri": "https://localhost:8080/"
        },
        "id": "MH5xI0Stpn74",
        "outputId": "d6e43623-d2af-46a3-b9eb-0bda7ad59591"
      },
      "execution_count": null,
      "outputs": [
        {
          "output_type": "execute_result",
          "data": {
            "text/plain": [
              "periodo\n",
              "2023-01    1.144451e+06\n",
              "2023-02    1.023640e+06\n",
              "2023-03    1.173834e+06\n",
              "2023-04    1.095386e+06\n",
              "2023-05    1.161068e+06\n",
              "2023-06    1.103890e+06\n",
              "2023-07    1.140277e+06\n",
              "2023-08    1.143120e+06\n",
              "2023-09    1.090087e+06\n",
              "2023-10    1.133924e+06\n",
              "2023-11    1.115213e+06\n",
              "2023-12    1.112816e+06\n",
              "Freq: M, Name: losses, dtype: float64"
            ]
          },
          "metadata": {},
          "execution_count": 24
        }
      ]
    },
    {
      "cell_type": "markdown",
      "source": [
        "# Recap\n",
        "\n",
        "**Rationale Behind the Approach**\n",
        "\n",
        "The Aggregate Loss Distribution Approach effectively models complex loss scenarios by integrating different aspects of loss events. Convolution provides a way to combine frequency and severity data into a single distribution, and Monte Carlo simulations offer a practical method to approximate this distribution, especially when analytical solutions are complex or infeasible.\n",
        "\n",
        "## Proposed Solution Overview\n",
        "The proposed solution involves developing a comprehensive model to predict economic losses due to financial risks using the Aggregate Loss Distribution Approach. The overall architecture of the solution includes several key components that work together to address the problem and achieve accurate predictions.\n",
        "\n",
        "**Overall Architecture and Workflow**\n",
        "\n",
        "**Data Preparation**\n",
        "* Data Import and Cleaning: Load the dataset from the CSV file, which includes the date and loss columns. Perform data cleaning to handle any missing or outlier values to ensure the quality of the data used in the model.\n",
        "* Feature Engineering: Although the dataset provided is minimal, additional features could be engineered if more data is available, such as economic indicators or event-specific details, to enhance model accuracy.\n",
        "\n",
        "**Model Building**\n",
        "* Frequency Distribution Modeling: Fit a statistical distribution to the frequency data (number of events per period). Common choices include Poisson or Negative Binomial distributions, depending on the data characteristics.\n",
        "* Severity Distribution Modeling: Fit a statistical distribution to the severity data (magnitude of losses). Possible distributions include Exponential, Gamma, or Pareto, chosen based on the nature of the loss data.\n",
        "* Convolution: Convolve the frequency and severity distributions to derive the aggregate loss distribution. This step combines the two distributions to model the total loss distribution effectively.\n",
        "\n",
        "**Monte Carlo Simulation**\n",
        "* Simulation Setup: Define the number of Monte Carlo simulations to be performed. For each simulation:\n",
        "Simulate Number of Events: Generate a random number of events based on the frequency distribution.\n",
        "Simulate Loss Amounts: Generate loss amounts for each event based on the severity distribution.\n",
        "Calculate Total Loss: Aggregate the loss amounts for each simulation run.\n",
        "* Aggregate Loss Distribution: Approximate the total loss distribution using the empirical distribution of the simulated total losses.\n",
        "\n",
        "**Model Evaluation**\n",
        "* Performance Metrics: Evaluate the model's performance using appropriate metrics, such as goodness-of-fit tests or comparing predicted losses to actual historical data (if available).\n",
        "* Validation: Validate the model using techniques such as cross-validation or out-of-sample testing to ensure robustness and accuracy.\n",
        "\n",
        "**Results Interpretation and Application**\n",
        "* Analysis of Results: Interpret the aggregate loss distribution to understand the potential financial impact under various scenarios.\n",
        "* Decision Support: Provide actionable insights and recommendations based on the predicted losses, helping financial institutions prepare for and mitigate risks.\n",
        "\n",
        "**Component Integration**\n",
        "* Data Preparation feeds into Model Building by providing clean and relevant data for distribution fitting.\n",
        "* Model Building and Monte Carlo Simulation are interconnected, as the distributions derived from model building are used in the simulations to generate loss scenarios.\n",
        "* Monte Carlo Simulation outputs feed into Model Evaluation to assess the model's predictive capability and accuracy.\n",
        "* Results Interpretation and Application leverage the evaluated model to offer practical insights and recommendations for risk management.\n",
        "  \n",
        "**Achieving the Desired Outcome**\n",
        "\n",
        "The integrated workflow allows for the accurate prediction of economic losses by combining theoretical models with practical simulations. By fitting frequency and severity distributions and using Monte Carlo simulations, the solution provides a robust method to estimate potential losses, ultimately supporting informed decision-making and risk management in financial institutions.\n",
        "\n",
        "## Conclusion\n",
        "\n",
        "**Importance of Historical Data for Frequency Modeling:**\n",
        "\n",
        "A critical finding is the necessity of having information from multiple periods to accurately model the frequency of loss events. In the absence of such data, the simulation defaults to a Poisson distribution with a parameter representing the average number of loss events per period (monthly, in this case). This highlights the importance of longitudinal data for precise frequency modeling.\n",
        "Utility of the distfit Library:\n",
        "\n",
        "Another significant insight is the effectiveness of the distfit library for fitting the frequency distribution. This tool simplifies the process of adjusting and selecting the best-fit distribution for frequency data, improving the accuracy and efficiency of the modeling process.\n",
        "Flexibility of the Model:\n",
        "\n",
        "The model developed is adaptable and can be applied to various loss datasets with different underlying distributions. This flexibility allows the approach to be used across different contexts and financial scenarios, enhancing its practical utility.\n",
        "\n",
        "**Success of the Proposed Solution**\n",
        "\n",
        "The proposed solution successfully integrates statistical modeling with Monte Carlo simulations to predict economic losses from financial risks. By combining frequency and severity distributions and leveraging advanced tools for distribution fitting, the model provides a robust framework for estimating potential losses. The ability to simulate various scenarios and assess their impact ensures that the model is both accurate and practical.\n",
        "\n",
        "**Implications and Potential Applications**\n",
        "\n",
        "* Risk Management: The insights gained from the model can significantly aid financial institutions in managing and mitigating risks. By understanding potential loss distributions, institutions can better prepare for adverse financial scenarios and allocate resources more effectively.\n",
        "\n",
        "* Regulatory Compliance: The model supports compliance with regulatory requirements by providing a method for estimating economic losses and ensuring adequate capital reserves to cover potential risks.\n",
        "\n",
        "* Adaptability: The model's flexibility to accommodate different datasets and underlying distributions makes it a valuable tool for diverse financial contexts. This adaptability enables its application to various types of financial risks and loss scenarios.\n",
        "\n",
        "In summary, the project demonstrates a successful approach to modeling economic losses, providing valuable insights for risk management and financial planning. The findings underscore the importance of comprehensive data and advanced tools in creating effective predictive models.\n",
        "\n",
        "## Improvements\n",
        "\n",
        "**Limitations and Challenges**\n",
        "While the current model provides a robust framework for predicting economic losses, there are some limitations and challenges that could be addressed in future iterations:\n",
        "\n",
        "* Fixed Periodicity:\n",
        "\n",
        "The model currently operates with a fixed periodicity, specifically on a monthly basis. This limitation may not capture the nuances of data that vary over different time frames, such as weekly or quarterly losses.\n",
        "Lack of Category-Specific Analysis:\n",
        "\n",
        "The model does not yet account for different categories of losses, such as losses segmented by type of risk (e.g., credit, market, operational). This limits the ability to perform more granular analysis and predictions for specific types of financial events.\n",
        "\n",
        "* Limited Visualizations:\n",
        "\n",
        "While the application provides basic visualizations, there is room for improvement by adding more sophisticated and informative visualizations. These could help in better interpreting the results and communicating insights to stakeholders.\n",
        "\n",
        "**Potential Enhancements and Future Directions**\n",
        "\n",
        "* Flexible Periodicity:\n",
        "\n",
        "In future versions, the project could be enhanced by allowing for flexibility in the periodicity of analysis. By incorporating different time frames (weekly, quarterly, annually), the model would be better suited to various financial scenarios and could provide more accurate predictions depending on the context.\n",
        "\n",
        "* Category-Specific Calculations:\n",
        "\n",
        "Another improvement would be to introduce category-specific calculations. By segmenting the data into relevant categories (e.g., type of loss, geographical region, market sector), the model could deliver more targeted insights. This would allow institutions to better understand and manage risks in different areas of their operations.\n",
        "\n",
        "* Enhanced Visualizations:\n",
        "\n",
        "Developing additional visualizations would greatly benefit the application. For instance, incorporating interactive dashboards, time-series plots, and distribution comparisons could provide users with a deeper understanding of the model's outputs. Enhanced visualizations would also make the model more user-friendly and easier to interpret for non-technical stakeholders.\n",
        "\n",
        "**Conclusion**\n",
        "\n",
        "By addressing these limitations and implementing the suggested enhancements, the project can be further improved to offer a more flexible, detailed, and user-friendly tool for predicting and managing financial losses. These improvements would not only increase the model's accuracy but also its applicability across a wider range of financial scenarios, making it an even more valuable resource for risk management and decision-making.\n",
        "\n",
        "## Acknowledgment\n",
        "\n",
        "We would like to express our sincere gratitude to the Python developer community, whose contributions to statistical libraries have been invaluable to the success of this project. Special thanks go to the creators and maintainers of the distfit library, which demonstrated excellent performance and was crucial in the development of the model. Their work has significantly enhanced our ability to fit statistical distributions and model economic losses with greater accuracy."
      ],
      "metadata": {
        "id": "IkZj98nZPsDl"
      }
    }
  ]
}